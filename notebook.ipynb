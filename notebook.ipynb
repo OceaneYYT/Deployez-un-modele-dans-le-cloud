{
 "cells": [
  {
   "cell_type": "markdown",
   "id": "441159cc",
   "metadata": {},
   "source": [
    "# Déployez un modèle dans le cloud\n",
    "\n"
   ]
  },
  {
   "cell_type": "code",
   "execution_count": null,
   "id": "ce33fae3",
   "metadata": {},
   "outputs": [],
   "source": [
    "# L'exécution de cette cellule démarre l'application Spark"
   ]
  },
  {
   "cell_type": "code",
   "execution_count": null,
   "id": "fb2b2cc3",
   "metadata": {},
   "outputs": [],
   "source": [
    "%%info"
   ]
  },
  {
   "cell_type": "markdown",
   "id": "33a43845",
   "metadata": {},
   "source": [
    "## Import des librairies"
   ]
  },
  {
   "cell_type": "code",
   "execution_count": 1,
   "id": "a5c0c74f",
   "metadata": {},
   "outputs": [],
   "source": [
    "import pandas as pd\n",
    "from PIL import Image\n",
    "import numpy as np\n",
    "import io\n",
    "import os\n",
    "import matplotlib.pyplot as plt\n",
    "import tensorflow as tf\n",
    "from tensorflow.keras.applications.mobilenet_v2 import MobileNetV2, preprocess_input\n",
    "from tensorflow.keras.preprocessing.image import img_to_array\n",
    "from tensorflow.keras import Model\n",
    "from pyspark.sql.functions import col, pandas_udf, PandasUDFType, element_at, split, udf\n",
    "from pyspark.sql import SparkSession\n",
    "from pyspark.ml.linalg import Vectors, VectorUDT \n",
    "from pyspark.ml.feature import StandardScaler, PCA\n",
    "from pyspark.sql.types import StringType"
   ]
  },
  {
   "cell_type": "markdown",
   "id": "915f93dd",
   "metadata": {},
   "source": [
    "## Définition des PATH pour charger les images et enregistrer les résultats\n",
    "\n",
    "Nous accédons directement à nos **données sur S3** comme si elles étaient **stockées localement**."
   ]
  },
  {
   "cell_type": "code",
   "execution_count": 7,
   "id": "cde0aa67",
   "metadata": {},
   "outputs": [
    {
     "name": "stdout",
     "output_type": "stream",
     "text": [
      "PATH:        /Users/oceaneyouyoutte/Desktop/Data Science/OCR/Projet 8/P8_Mode_opératoire\n",
      "PATH_Data:   /Users/oceaneyouyoutte/Desktop/Data Science/OCR/Projet 8/P8_Mode_opératoire/data/Test_sample300\n",
      "PATH_Result: /Users/oceaneyouyoutte/Desktop/Data Science/OCR/Projet 8/P8_Mode_opératoire/data/Results\n"
     ]
    }
   ],
   "source": [
    "PATH = 's3://oc-p8-data'\n",
    "PATH_Data = PATH+'/test_S3'\n",
    "PATH_Result = PATH+'/Results'\n",
    "print('PATH:        '+\\\n",
    "      PATH+'\\nPATH_Data:   '+\\\n",
    "      PATH_Data+'\\nPATH_Result: '+PATH_Result)"
   ]
  },
  {
   "cell_type": "markdown",
   "id": "f35fe551",
   "metadata": {},
   "source": [
    "## Traitement des données\n",
    "### Chargement des données"
   ]
  },
  {
   "cell_type": "code",
   "execution_count": 11,
   "id": "e68e53b9",
   "metadata": {},
   "outputs": [
    {
     "name": "stderr",
     "output_type": "stream",
     "text": [
      "                                                                                \r"
     ]
    }
   ],
   "source": [
    "images = spark.read.format(\"binaryFile\") \\\n",
    "  .option(\"pathGlobFilter\", \"*.jpg\") \\\n",
    "  .option(\"recursiveFileLookup\", \"true\") \\\n",
    "  .load(PATH_Data)"
   ]
  },
  {
   "cell_type": "code",
   "execution_count": null,
   "id": "c35b4b60",
   "metadata": {},
   "outputs": [],
   "source": [
    "images.show(5)"
   ]
  },
  {
   "cell_type": "markdown",
   "id": "863981e5",
   "metadata": {},
   "source": [
    "<u>Je ne conserve que le **path** de l'image et j'ajoute <br />\n",
    "    une colonne contenant les **labels** de chaque image</u> :"
   ]
  },
  {
   "cell_type": "code",
   "execution_count": 12,
   "id": "a08b0494",
   "metadata": {},
   "outputs": [
    {
     "name": "stdout",
     "output_type": "stream",
     "text": [
      "root\n",
      " |-- path: string (nullable = true)\n",
      " |-- modificationTime: timestamp (nullable = true)\n",
      " |-- length: long (nullable = true)\n",
      " |-- content: binary (nullable = true)\n",
      " |-- label: string (nullable = true)\n",
      "\n",
      "None\n",
      "+--------------------------------------------------------------------------------------------------------------------------------+--------------+\n",
      "|path                                                                                                                            |label         |\n",
      "+--------------------------------------------------------------------------------------------------------------------------------+--------------+\n",
      "|file:/Users/oceaneyouyoutte/Desktop/Data Science/OCR/Projet 8/P8_Mode_opératoire/data/Test_sample300/Watermelon/r_48_100.jpg   |Watermelon    |\n",
      "|file:/Users/oceaneyouyoutte/Desktop/Data Science/OCR/Projet 8/P8_Mode_opératoire/data/Test_sample300/Pineapple Mini/7_100.jpg  |Pineapple Mini|\n",
      "|file:/Users/oceaneyouyoutte/Desktop/Data Science/OCR/Projet 8/P8_Mode_opératoire/data/Test_sample300/Pineapple Mini/133_100.jpg|Pineapple Mini|\n",
      "|file:/Users/oceaneyouyoutte/Desktop/Data Science/OCR/Projet 8/P8_Mode_opératoire/data/Test_sample300/Pineapple Mini/135_100.jpg|Pineapple Mini|\n",
      "|file:/Users/oceaneyouyoutte/Desktop/Data Science/OCR/Projet 8/P8_Mode_opératoire/data/Test_sample300/Watermelon/142_100.jpg    |Watermelon    |\n",
      "+--------------------------------------------------------------------------------------------------------------------------------+--------------+\n",
      "only showing top 5 rows\n",
      "\n",
      "None\n"
     ]
    }
   ],
   "source": [
    "images = images.withColumn('label', element_at(split(images['path'], '/'),-2))\n",
    "print(images.printSchema())\n",
    "print(images.select('path','label').show(5,False))"
   ]
  },
  {
   "cell_type": "markdown",
   "id": "bb075a7d",
   "metadata": {},
   "source": [
    "## Préparation du modèle"
   ]
  },
  {
   "cell_type": "code",
   "execution_count": 13,
   "id": "9cdd9bdf",
   "metadata": {},
   "outputs": [],
   "source": [
    "model = MobileNetV2(weights='imagenet',\n",
    "                    include_top=True,\n",
    "                    input_shape=(224, 224, 3))"
   ]
  },
  {
   "cell_type": "code",
   "execution_count": 14,
   "id": "99d6b68d",
   "metadata": {},
   "outputs": [],
   "source": [
    "new_model = Model(inputs=model.input,\n",
    "                  outputs=model.layers[-2].output)"
   ]
  },
  {
   "cell_type": "code",
   "execution_count": 15,
   "id": "e8207725",
   "metadata": {},
   "outputs": [
    {
     "name": "stdout",
     "output_type": "stream",
     "text": [
      "Model: \"model\"\n",
      "__________________________________________________________________________________________________\n",
      " Layer (type)                Output Shape                 Param #   Connected to                  \n",
      "==================================================================================================\n",
      " input_1 (InputLayer)        [(None, 224, 224, 3)]        0         []                            \n",
      "                                                                                                  \n",
      " Conv1 (Conv2D)              (None, 112, 112, 32)         864       ['input_1[0][0]']             \n",
      "                                                                                                  \n",
      " bn_Conv1 (BatchNormalizati  (None, 112, 112, 32)         128       ['Conv1[0][0]']               \n",
      " on)                                                                                              \n",
      "                                                                                                  \n",
      " Conv1_relu (ReLU)           (None, 112, 112, 32)         0         ['bn_Conv1[0][0]']            \n",
      "                                                                                                  \n",
      " expanded_conv_depthwise (D  (None, 112, 112, 32)         288       ['Conv1_relu[0][0]']          \n",
      " epthwiseConv2D)                                                                                  \n",
      "                                                                                                  \n",
      " expanded_conv_depthwise_BN  (None, 112, 112, 32)         128       ['expanded_conv_depthwise[0][0\n",
      "  (BatchNormalization)                                              ]']                           \n",
      "                                                                                                  \n",
      " expanded_conv_depthwise_re  (None, 112, 112, 32)         0         ['expanded_conv_depthwise_BN[0\n",
      " lu (ReLU)                                                          ][0]']                        \n",
      "                                                                                                  \n",
      " expanded_conv_project (Con  (None, 112, 112, 16)         512       ['expanded_conv_depthwise_relu\n",
      " v2D)                                                               [0][0]']                      \n",
      "                                                                                                  \n",
      " expanded_conv_project_BN (  (None, 112, 112, 16)         64        ['expanded_conv_project[0][0]'\n",
      " BatchNormalization)                                                ]                             \n",
      "                                                                                                  \n",
      " block_1_expand (Conv2D)     (None, 112, 112, 96)         1536      ['expanded_conv_project_BN[0][\n",
      "                                                                    0]']                          \n",
      "                                                                                                  \n",
      " block_1_expand_BN (BatchNo  (None, 112, 112, 96)         384       ['block_1_expand[0][0]']      \n",
      " rmalization)                                                                                     \n",
      "                                                                                                  \n",
      " block_1_expand_relu (ReLU)  (None, 112, 112, 96)         0         ['block_1_expand_BN[0][0]']   \n",
      "                                                                                                  \n",
      " block_1_pad (ZeroPadding2D  (None, 113, 113, 96)         0         ['block_1_expand_relu[0][0]'] \n",
      " )                                                                                                \n",
      "                                                                                                  \n",
      " block_1_depthwise (Depthwi  (None, 56, 56, 96)           864       ['block_1_pad[0][0]']         \n",
      " seConv2D)                                                                                        \n",
      "                                                                                                  \n",
      " block_1_depthwise_BN (Batc  (None, 56, 56, 96)           384       ['block_1_depthwise[0][0]']   \n",
      " hNormalization)                                                                                  \n",
      "                                                                                                  \n",
      " block_1_depthwise_relu (Re  (None, 56, 56, 96)           0         ['block_1_depthwise_BN[0][0]']\n",
      " LU)                                                                                              \n",
      "                                                                                                  \n",
      " block_1_project (Conv2D)    (None, 56, 56, 24)           2304      ['block_1_depthwise_relu[0][0]\n",
      "                                                                    ']                            \n",
      "                                                                                                  \n",
      " block_1_project_BN (BatchN  (None, 56, 56, 24)           96        ['block_1_project[0][0]']     \n",
      " ormalization)                                                                                    \n",
      "                                                                                                  \n",
      " block_2_expand (Conv2D)     (None, 56, 56, 144)          3456      ['block_1_project_BN[0][0]']  \n",
      "                                                                                                  \n",
      " block_2_expand_BN (BatchNo  (None, 56, 56, 144)          576       ['block_2_expand[0][0]']      \n",
      " rmalization)                                                                                     \n",
      "                                                                                                  \n",
      " block_2_expand_relu (ReLU)  (None, 56, 56, 144)          0         ['block_2_expand_BN[0][0]']   \n",
      "                                                                                                  \n",
      " block_2_depthwise (Depthwi  (None, 56, 56, 144)          1296      ['block_2_expand_relu[0][0]'] \n",
      " seConv2D)                                                                                        \n",
      "                                                                                                  \n",
      " block_2_depthwise_BN (Batc  (None, 56, 56, 144)          576       ['block_2_depthwise[0][0]']   \n",
      " hNormalization)                                                                                  \n",
      "                                                                                                  \n",
      " block_2_depthwise_relu (Re  (None, 56, 56, 144)          0         ['block_2_depthwise_BN[0][0]']\n",
      " LU)                                                                                              \n",
      "                                                                                                  \n",
      " block_2_project (Conv2D)    (None, 56, 56, 24)           3456      ['block_2_depthwise_relu[0][0]\n",
      "                                                                    ']                            \n",
      "                                                                                                  \n",
      " block_2_project_BN (BatchN  (None, 56, 56, 24)           96        ['block_2_project[0][0]']     \n",
      " ormalization)                                                                                    \n",
      "                                                                                                  \n",
      " block_2_add (Add)           (None, 56, 56, 24)           0         ['block_1_project_BN[0][0]',  \n",
      "                                                                     'block_2_project_BN[0][0]']  \n",
      "                                                                                                  \n",
      " block_3_expand (Conv2D)     (None, 56, 56, 144)          3456      ['block_2_add[0][0]']         \n",
      "                                                                                                  \n",
      " block_3_expand_BN (BatchNo  (None, 56, 56, 144)          576       ['block_3_expand[0][0]']      \n",
      " rmalization)                                                                                     \n",
      "                                                                                                  \n"
     ]
    },
    {
     "name": "stdout",
     "output_type": "stream",
     "text": [
      " block_3_expand_relu (ReLU)  (None, 56, 56, 144)          0         ['block_3_expand_BN[0][0]']   \n",
      "                                                                                                  \n",
      " block_3_pad (ZeroPadding2D  (None, 57, 57, 144)          0         ['block_3_expand_relu[0][0]'] \n",
      " )                                                                                                \n",
      "                                                                                                  \n",
      " block_3_depthwise (Depthwi  (None, 28, 28, 144)          1296      ['block_3_pad[0][0]']         \n",
      " seConv2D)                                                                                        \n",
      "                                                                                                  \n",
      " block_3_depthwise_BN (Batc  (None, 28, 28, 144)          576       ['block_3_depthwise[0][0]']   \n",
      " hNormalization)                                                                                  \n",
      "                                                                                                  \n",
      " block_3_depthwise_relu (Re  (None, 28, 28, 144)          0         ['block_3_depthwise_BN[0][0]']\n",
      " LU)                                                                                              \n",
      "                                                                                                  \n",
      " block_3_project (Conv2D)    (None, 28, 28, 32)           4608      ['block_3_depthwise_relu[0][0]\n",
      "                                                                    ']                            \n",
      "                                                                                                  \n",
      " block_3_project_BN (BatchN  (None, 28, 28, 32)           128       ['block_3_project[0][0]']     \n",
      " ormalization)                                                                                    \n",
      "                                                                                                  \n",
      " block_4_expand (Conv2D)     (None, 28, 28, 192)          6144      ['block_3_project_BN[0][0]']  \n",
      "                                                                                                  \n",
      " block_4_expand_BN (BatchNo  (None, 28, 28, 192)          768       ['block_4_expand[0][0]']      \n",
      " rmalization)                                                                                     \n",
      "                                                                                                  \n",
      " block_4_expand_relu (ReLU)  (None, 28, 28, 192)          0         ['block_4_expand_BN[0][0]']   \n",
      "                                                                                                  \n",
      " block_4_depthwise (Depthwi  (None, 28, 28, 192)          1728      ['block_4_expand_relu[0][0]'] \n",
      " seConv2D)                                                                                        \n",
      "                                                                                                  \n",
      " block_4_depthwise_BN (Batc  (None, 28, 28, 192)          768       ['block_4_depthwise[0][0]']   \n",
      " hNormalization)                                                                                  \n",
      "                                                                                                  \n",
      " block_4_depthwise_relu (Re  (None, 28, 28, 192)          0         ['block_4_depthwise_BN[0][0]']\n",
      " LU)                                                                                              \n",
      "                                                                                                  \n",
      " block_4_project (Conv2D)    (None, 28, 28, 32)           6144      ['block_4_depthwise_relu[0][0]\n",
      "                                                                    ']                            \n",
      "                                                                                                  \n",
      " block_4_project_BN (BatchN  (None, 28, 28, 32)           128       ['block_4_project[0][0]']     \n",
      " ormalization)                                                                                    \n",
      "                                                                                                  \n",
      " block_4_add (Add)           (None, 28, 28, 32)           0         ['block_3_project_BN[0][0]',  \n",
      "                                                                     'block_4_project_BN[0][0]']  \n",
      "                                                                                                  \n",
      " block_5_expand (Conv2D)     (None, 28, 28, 192)          6144      ['block_4_add[0][0]']         \n",
      "                                                                                                  \n",
      " block_5_expand_BN (BatchNo  (None, 28, 28, 192)          768       ['block_5_expand[0][0]']      \n",
      " rmalization)                                                                                     \n",
      "                                                                                                  \n",
      " block_5_expand_relu (ReLU)  (None, 28, 28, 192)          0         ['block_5_expand_BN[0][0]']   \n",
      "                                                                                                  \n",
      " block_5_depthwise (Depthwi  (None, 28, 28, 192)          1728      ['block_5_expand_relu[0][0]'] \n",
      " seConv2D)                                                                                        \n",
      "                                                                                                  \n",
      " block_5_depthwise_BN (Batc  (None, 28, 28, 192)          768       ['block_5_depthwise[0][0]']   \n",
      " hNormalization)                                                                                  \n",
      "                                                                                                  \n",
      " block_5_depthwise_relu (Re  (None, 28, 28, 192)          0         ['block_5_depthwise_BN[0][0]']\n",
      " LU)                                                                                              \n",
      "                                                                                                  \n",
      " block_5_project (Conv2D)    (None, 28, 28, 32)           6144      ['block_5_depthwise_relu[0][0]\n",
      "                                                                    ']                            \n",
      "                                                                                                  \n",
      " block_5_project_BN (BatchN  (None, 28, 28, 32)           128       ['block_5_project[0][0]']     \n",
      " ormalization)                                                                                    \n",
      "                                                                                                  \n",
      " block_5_add (Add)           (None, 28, 28, 32)           0         ['block_4_add[0][0]',         \n",
      "                                                                     'block_5_project_BN[0][0]']  \n",
      "                                                                                                  \n",
      " block_6_expand (Conv2D)     (None, 28, 28, 192)          6144      ['block_5_add[0][0]']         \n",
      "                                                                                                  \n",
      " block_6_expand_BN (BatchNo  (None, 28, 28, 192)          768       ['block_6_expand[0][0]']      \n",
      " rmalization)                                                                                     \n",
      "                                                                                                  \n",
      " block_6_expand_relu (ReLU)  (None, 28, 28, 192)          0         ['block_6_expand_BN[0][0]']   \n",
      "                                                                                                  \n",
      " block_6_pad (ZeroPadding2D  (None, 29, 29, 192)          0         ['block_6_expand_relu[0][0]'] \n",
      " )                                                                                                \n",
      "                                                                                                  \n",
      " block_6_depthwise (Depthwi  (None, 14, 14, 192)          1728      ['block_6_pad[0][0]']         \n",
      " seConv2D)                                                                                        \n",
      "                                                                                                  \n"
     ]
    },
    {
     "name": "stdout",
     "output_type": "stream",
     "text": [
      " block_6_depthwise_BN (Batc  (None, 14, 14, 192)          768       ['block_6_depthwise[0][0]']   \n",
      " hNormalization)                                                                                  \n",
      "                                                                                                  \n",
      " block_6_depthwise_relu (Re  (None, 14, 14, 192)          0         ['block_6_depthwise_BN[0][0]']\n",
      " LU)                                                                                              \n",
      "                                                                                                  \n",
      " block_6_project (Conv2D)    (None, 14, 14, 64)           12288     ['block_6_depthwise_relu[0][0]\n",
      "                                                                    ']                            \n",
      "                                                                                                  \n",
      " block_6_project_BN (BatchN  (None, 14, 14, 64)           256       ['block_6_project[0][0]']     \n",
      " ormalization)                                                                                    \n",
      "                                                                                                  \n",
      " block_7_expand (Conv2D)     (None, 14, 14, 384)          24576     ['block_6_project_BN[0][0]']  \n",
      "                                                                                                  \n",
      " block_7_expand_BN (BatchNo  (None, 14, 14, 384)          1536      ['block_7_expand[0][0]']      \n",
      " rmalization)                                                                                     \n",
      "                                                                                                  \n",
      " block_7_expand_relu (ReLU)  (None, 14, 14, 384)          0         ['block_7_expand_BN[0][0]']   \n",
      "                                                                                                  \n",
      " block_7_depthwise (Depthwi  (None, 14, 14, 384)          3456      ['block_7_expand_relu[0][0]'] \n",
      " seConv2D)                                                                                        \n",
      "                                                                                                  \n",
      " block_7_depthwise_BN (Batc  (None, 14, 14, 384)          1536      ['block_7_depthwise[0][0]']   \n",
      " hNormalization)                                                                                  \n",
      "                                                                                                  \n",
      " block_7_depthwise_relu (Re  (None, 14, 14, 384)          0         ['block_7_depthwise_BN[0][0]']\n",
      " LU)                                                                                              \n",
      "                                                                                                  \n",
      " block_7_project (Conv2D)    (None, 14, 14, 64)           24576     ['block_7_depthwise_relu[0][0]\n",
      "                                                                    ']                            \n",
      "                                                                                                  \n",
      " block_7_project_BN (BatchN  (None, 14, 14, 64)           256       ['block_7_project[0][0]']     \n",
      " ormalization)                                                                                    \n",
      "                                                                                                  \n",
      " block_7_add (Add)           (None, 14, 14, 64)           0         ['block_6_project_BN[0][0]',  \n",
      "                                                                     'block_7_project_BN[0][0]']  \n",
      "                                                                                                  \n",
      " block_8_expand (Conv2D)     (None, 14, 14, 384)          24576     ['block_7_add[0][0]']         \n",
      "                                                                                                  \n",
      " block_8_expand_BN (BatchNo  (None, 14, 14, 384)          1536      ['block_8_expand[0][0]']      \n",
      " rmalization)                                                                                     \n",
      "                                                                                                  \n",
      " block_8_expand_relu (ReLU)  (None, 14, 14, 384)          0         ['block_8_expand_BN[0][0]']   \n",
      "                                                                                                  \n",
      " block_8_depthwise (Depthwi  (None, 14, 14, 384)          3456      ['block_8_expand_relu[0][0]'] \n",
      " seConv2D)                                                                                        \n",
      "                                                                                                  \n",
      " block_8_depthwise_BN (Batc  (None, 14, 14, 384)          1536      ['block_8_depthwise[0][0]']   \n",
      " hNormalization)                                                                                  \n",
      "                                                                                                  \n",
      " block_8_depthwise_relu (Re  (None, 14, 14, 384)          0         ['block_8_depthwise_BN[0][0]']\n",
      " LU)                                                                                              \n",
      "                                                                                                  \n",
      " block_8_project (Conv2D)    (None, 14, 14, 64)           24576     ['block_8_depthwise_relu[0][0]\n",
      "                                                                    ']                            \n",
      "                                                                                                  \n",
      " block_8_project_BN (BatchN  (None, 14, 14, 64)           256       ['block_8_project[0][0]']     \n",
      " ormalization)                                                                                    \n",
      "                                                                                                  \n",
      " block_8_add (Add)           (None, 14, 14, 64)           0         ['block_7_add[0][0]',         \n",
      "                                                                     'block_8_project_BN[0][0]']  \n",
      "                                                                                                  \n",
      " block_9_expand (Conv2D)     (None, 14, 14, 384)          24576     ['block_8_add[0][0]']         \n",
      "                                                                                                  \n",
      " block_9_expand_BN (BatchNo  (None, 14, 14, 384)          1536      ['block_9_expand[0][0]']      \n",
      " rmalization)                                                                                     \n",
      "                                                                                                  \n",
      " block_9_expand_relu (ReLU)  (None, 14, 14, 384)          0         ['block_9_expand_BN[0][0]']   \n",
      "                                                                                                  \n",
      " block_9_depthwise (Depthwi  (None, 14, 14, 384)          3456      ['block_9_expand_relu[0][0]'] \n",
      " seConv2D)                                                                                        \n",
      "                                                                                                  \n",
      " block_9_depthwise_BN (Batc  (None, 14, 14, 384)          1536      ['block_9_depthwise[0][0]']   \n",
      " hNormalization)                                                                                  \n",
      "                                                                                                  \n",
      " block_9_depthwise_relu (Re  (None, 14, 14, 384)          0         ['block_9_depthwise_BN[0][0]']\n",
      " LU)                                                                                              \n",
      "                                                                                                  \n",
      " block_9_project (Conv2D)    (None, 14, 14, 64)           24576     ['block_9_depthwise_relu[0][0]\n",
      "                                                                    ']                            \n",
      "                                                                                                  \n",
      " block_9_project_BN (BatchN  (None, 14, 14, 64)           256       ['block_9_project[0][0]']     \n",
      " ormalization)                                                                                    \n"
     ]
    },
    {
     "name": "stdout",
     "output_type": "stream",
     "text": [
      "                                                                                                  \n",
      " block_9_add (Add)           (None, 14, 14, 64)           0         ['block_8_add[0][0]',         \n",
      "                                                                     'block_9_project_BN[0][0]']  \n",
      "                                                                                                  \n",
      " block_10_expand (Conv2D)    (None, 14, 14, 384)          24576     ['block_9_add[0][0]']         \n",
      "                                                                                                  \n",
      " block_10_expand_BN (BatchN  (None, 14, 14, 384)          1536      ['block_10_expand[0][0]']     \n",
      " ormalization)                                                                                    \n",
      "                                                                                                  \n",
      " block_10_expand_relu (ReLU  (None, 14, 14, 384)          0         ['block_10_expand_BN[0][0]']  \n",
      " )                                                                                                \n",
      "                                                                                                  \n",
      " block_10_depthwise (Depthw  (None, 14, 14, 384)          3456      ['block_10_expand_relu[0][0]']\n",
      " iseConv2D)                                                                                       \n",
      "                                                                                                  \n",
      " block_10_depthwise_BN (Bat  (None, 14, 14, 384)          1536      ['block_10_depthwise[0][0]']  \n",
      " chNormalization)                                                                                 \n",
      "                                                                                                  \n",
      " block_10_depthwise_relu (R  (None, 14, 14, 384)          0         ['block_10_depthwise_BN[0][0]'\n",
      " eLU)                                                               ]                             \n",
      "                                                                                                  \n",
      " block_10_project (Conv2D)   (None, 14, 14, 96)           36864     ['block_10_depthwise_relu[0][0\n",
      "                                                                    ]']                           \n",
      "                                                                                                  \n",
      " block_10_project_BN (Batch  (None, 14, 14, 96)           384       ['block_10_project[0][0]']    \n",
      " Normalization)                                                                                   \n",
      "                                                                                                  \n",
      " block_11_expand (Conv2D)    (None, 14, 14, 576)          55296     ['block_10_project_BN[0][0]'] \n",
      "                                                                                                  \n",
      " block_11_expand_BN (BatchN  (None, 14, 14, 576)          2304      ['block_11_expand[0][0]']     \n",
      " ormalization)                                                                                    \n",
      "                                                                                                  \n",
      " block_11_expand_relu (ReLU  (None, 14, 14, 576)          0         ['block_11_expand_BN[0][0]']  \n",
      " )                                                                                                \n",
      "                                                                                                  \n",
      " block_11_depthwise (Depthw  (None, 14, 14, 576)          5184      ['block_11_expand_relu[0][0]']\n",
      " iseConv2D)                                                                                       \n",
      "                                                                                                  \n",
      " block_11_depthwise_BN (Bat  (None, 14, 14, 576)          2304      ['block_11_depthwise[0][0]']  \n",
      " chNormalization)                                                                                 \n",
      "                                                                                                  \n",
      " block_11_depthwise_relu (R  (None, 14, 14, 576)          0         ['block_11_depthwise_BN[0][0]'\n",
      " eLU)                                                               ]                             \n",
      "                                                                                                  \n",
      " block_11_project (Conv2D)   (None, 14, 14, 96)           55296     ['block_11_depthwise_relu[0][0\n",
      "                                                                    ]']                           \n",
      "                                                                                                  \n",
      " block_11_project_BN (Batch  (None, 14, 14, 96)           384       ['block_11_project[0][0]']    \n",
      " Normalization)                                                                                   \n",
      "                                                                                                  \n",
      " block_11_add (Add)          (None, 14, 14, 96)           0         ['block_10_project_BN[0][0]', \n",
      "                                                                     'block_11_project_BN[0][0]'] \n",
      "                                                                                                  \n",
      " block_12_expand (Conv2D)    (None, 14, 14, 576)          55296     ['block_11_add[0][0]']        \n",
      "                                                                                                  \n",
      " block_12_expand_BN (BatchN  (None, 14, 14, 576)          2304      ['block_12_expand[0][0]']     \n",
      " ormalization)                                                                                    \n",
      "                                                                                                  \n",
      " block_12_expand_relu (ReLU  (None, 14, 14, 576)          0         ['block_12_expand_BN[0][0]']  \n",
      " )                                                                                                \n",
      "                                                                                                  \n",
      " block_12_depthwise (Depthw  (None, 14, 14, 576)          5184      ['block_12_expand_relu[0][0]']\n",
      " iseConv2D)                                                                                       \n",
      "                                                                                                  \n",
      " block_12_depthwise_BN (Bat  (None, 14, 14, 576)          2304      ['block_12_depthwise[0][0]']  \n",
      " chNormalization)                                                                                 \n",
      "                                                                                                  \n",
      " block_12_depthwise_relu (R  (None, 14, 14, 576)          0         ['block_12_depthwise_BN[0][0]'\n",
      " eLU)                                                               ]                             \n",
      "                                                                                                  \n",
      " block_12_project (Conv2D)   (None, 14, 14, 96)           55296     ['block_12_depthwise_relu[0][0\n",
      "                                                                    ]']                           \n",
      "                                                                                                  \n",
      " block_12_project_BN (Batch  (None, 14, 14, 96)           384       ['block_12_project[0][0]']    \n",
      " Normalization)                                                                                   \n",
      "                                                                                                  \n",
      " block_12_add (Add)          (None, 14, 14, 96)           0         ['block_11_add[0][0]',        \n",
      "                                                                     'block_12_project_BN[0][0]'] \n",
      "                                                                                                  \n",
      " block_13_expand (Conv2D)    (None, 14, 14, 576)          55296     ['block_12_add[0][0]']        \n",
      "                                                                                                  \n",
      " block_13_expand_BN (BatchN  (None, 14, 14, 576)          2304      ['block_13_expand[0][0]']     \n",
      " ormalization)                                                                                    \n"
     ]
    },
    {
     "name": "stdout",
     "output_type": "stream",
     "text": [
      "                                                                                                  \n",
      " block_13_expand_relu (ReLU  (None, 14, 14, 576)          0         ['block_13_expand_BN[0][0]']  \n",
      " )                                                                                                \n",
      "                                                                                                  \n",
      " block_13_pad (ZeroPadding2  (None, 15, 15, 576)          0         ['block_13_expand_relu[0][0]']\n",
      " D)                                                                                               \n",
      "                                                                                                  \n",
      " block_13_depthwise (Depthw  (None, 7, 7, 576)            5184      ['block_13_pad[0][0]']        \n",
      " iseConv2D)                                                                                       \n",
      "                                                                                                  \n",
      " block_13_depthwise_BN (Bat  (None, 7, 7, 576)            2304      ['block_13_depthwise[0][0]']  \n",
      " chNormalization)                                                                                 \n",
      "                                                                                                  \n",
      " block_13_depthwise_relu (R  (None, 7, 7, 576)            0         ['block_13_depthwise_BN[0][0]'\n",
      " eLU)                                                               ]                             \n",
      "                                                                                                  \n",
      " block_13_project (Conv2D)   (None, 7, 7, 160)            92160     ['block_13_depthwise_relu[0][0\n",
      "                                                                    ]']                           \n",
      "                                                                                                  \n",
      " block_13_project_BN (Batch  (None, 7, 7, 160)            640       ['block_13_project[0][0]']    \n",
      " Normalization)                                                                                   \n",
      "                                                                                                  \n",
      " block_14_expand (Conv2D)    (None, 7, 7, 960)            153600    ['block_13_project_BN[0][0]'] \n",
      "                                                                                                  \n",
      " block_14_expand_BN (BatchN  (None, 7, 7, 960)            3840      ['block_14_expand[0][0]']     \n",
      " ormalization)                                                                                    \n",
      "                                                                                                  \n",
      " block_14_expand_relu (ReLU  (None, 7, 7, 960)            0         ['block_14_expand_BN[0][0]']  \n",
      " )                                                                                                \n",
      "                                                                                                  \n",
      " block_14_depthwise (Depthw  (None, 7, 7, 960)            8640      ['block_14_expand_relu[0][0]']\n",
      " iseConv2D)                                                                                       \n",
      "                                                                                                  \n",
      " block_14_depthwise_BN (Bat  (None, 7, 7, 960)            3840      ['block_14_depthwise[0][0]']  \n",
      " chNormalization)                                                                                 \n",
      "                                                                                                  \n",
      " block_14_depthwise_relu (R  (None, 7, 7, 960)            0         ['block_14_depthwise_BN[0][0]'\n",
      " eLU)                                                               ]                             \n",
      "                                                                                                  \n",
      " block_14_project (Conv2D)   (None, 7, 7, 160)            153600    ['block_14_depthwise_relu[0][0\n",
      "                                                                    ]']                           \n",
      "                                                                                                  \n",
      " block_14_project_BN (Batch  (None, 7, 7, 160)            640       ['block_14_project[0][0]']    \n",
      " Normalization)                                                                                   \n",
      "                                                                                                  \n",
      " block_14_add (Add)          (None, 7, 7, 160)            0         ['block_13_project_BN[0][0]', \n",
      "                                                                     'block_14_project_BN[0][0]'] \n",
      "                                                                                                  \n",
      " block_15_expand (Conv2D)    (None, 7, 7, 960)            153600    ['block_14_add[0][0]']        \n",
      "                                                                                                  \n",
      " block_15_expand_BN (BatchN  (None, 7, 7, 960)            3840      ['block_15_expand[0][0]']     \n",
      " ormalization)                                                                                    \n",
      "                                                                                                  \n",
      " block_15_expand_relu (ReLU  (None, 7, 7, 960)            0         ['block_15_expand_BN[0][0]']  \n",
      " )                                                                                                \n",
      "                                                                                                  \n",
      " block_15_depthwise (Depthw  (None, 7, 7, 960)            8640      ['block_15_expand_relu[0][0]']\n",
      " iseConv2D)                                                                                       \n",
      "                                                                                                  \n",
      " block_15_depthwise_BN (Bat  (None, 7, 7, 960)            3840      ['block_15_depthwise[0][0]']  \n",
      " chNormalization)                                                                                 \n",
      "                                                                                                  \n",
      " block_15_depthwise_relu (R  (None, 7, 7, 960)            0         ['block_15_depthwise_BN[0][0]'\n",
      " eLU)                                                               ]                             \n",
      "                                                                                                  \n",
      " block_15_project (Conv2D)   (None, 7, 7, 160)            153600    ['block_15_depthwise_relu[0][0\n",
      "                                                                    ]']                           \n",
      "                                                                                                  \n",
      " block_15_project_BN (Batch  (None, 7, 7, 160)            640       ['block_15_project[0][0]']    \n",
      " Normalization)                                                                                   \n",
      "                                                                                                  \n",
      " block_15_add (Add)          (None, 7, 7, 160)            0         ['block_14_add[0][0]',        \n",
      "                                                                     'block_15_project_BN[0][0]'] \n",
      "                                                                                                  \n",
      " block_16_expand (Conv2D)    (None, 7, 7, 960)            153600    ['block_15_add[0][0]']        \n",
      "                                                                                                  \n",
      " block_16_expand_BN (BatchN  (None, 7, 7, 960)            3840      ['block_16_expand[0][0]']     \n",
      " ormalization)                                                                                    \n",
      "                                                                                                  \n",
      " block_16_expand_relu (ReLU  (None, 7, 7, 960)            0         ['block_16_expand_BN[0][0]']  \n",
      " )                                                                                                \n",
      "                                                                                                  \n",
      " block_16_depthwise (Depthw  (None, 7, 7, 960)            8640      ['block_16_expand_relu[0][0]']\n"
     ]
    },
    {
     "name": "stdout",
     "output_type": "stream",
     "text": [
      " iseConv2D)                                                                                       \n",
      "                                                                                                  \n",
      " block_16_depthwise_BN (Bat  (None, 7, 7, 960)            3840      ['block_16_depthwise[0][0]']  \n",
      " chNormalization)                                                                                 \n",
      "                                                                                                  \n",
      " block_16_depthwise_relu (R  (None, 7, 7, 960)            0         ['block_16_depthwise_BN[0][0]'\n",
      " eLU)                                                               ]                             \n",
      "                                                                                                  \n",
      " block_16_project (Conv2D)   (None, 7, 7, 320)            307200    ['block_16_depthwise_relu[0][0\n",
      "                                                                    ]']                           \n",
      "                                                                                                  \n",
      " block_16_project_BN (Batch  (None, 7, 7, 320)            1280      ['block_16_project[0][0]']    \n",
      " Normalization)                                                                                   \n",
      "                                                                                                  \n",
      " Conv_1 (Conv2D)             (None, 7, 7, 1280)           409600    ['block_16_project_BN[0][0]'] \n",
      "                                                                                                  \n",
      " Conv_1_bn (BatchNormalizat  (None, 7, 7, 1280)           5120      ['Conv_1[0][0]']              \n",
      " ion)                                                                                             \n",
      "                                                                                                  \n",
      " out_relu (ReLU)             (None, 7, 7, 1280)           0         ['Conv_1_bn[0][0]']           \n",
      "                                                                                                  \n",
      " global_average_pooling2d (  (None, 1280)                 0         ['out_relu[0][0]']            \n",
      " GlobalAveragePooling2D)                                                                          \n",
      "                                                                                                  \n",
      "==================================================================================================\n",
      "Total params: 2257984 (8.61 MB)\n",
      "Trainable params: 2223872 (8.48 MB)\n",
      "Non-trainable params: 34112 (133.25 KB)\n",
      "__________________________________________________________________________________________________\n"
     ]
    }
   ],
   "source": [
    "new_model.summary()"
   ]
  },
  {
   "cell_type": "code",
   "execution_count": 16,
   "id": "1cc53ff0",
   "metadata": {},
   "outputs": [],
   "source": [
    "brodcast_weights = sc.broadcast(new_model.get_weights())"
   ]
  },
  {
   "cell_type": "code",
   "execution_count": 17,
   "id": "3fd51ba9",
   "metadata": {},
   "outputs": [],
   "source": [
    "def model_fn():\n",
    "    \"\"\"\n",
    "    Returns a MobileNetV2 model with top layer removed \n",
    "    and broadcasted pretrained weights.\n",
    "    \"\"\"\n",
    "    model = MobileNetV2(weights='imagenet',\n",
    "                        include_top=True,\n",
    "                        input_shape=(224, 224, 3))\n",
    "    for layer in model.layers:\n",
    "        layer.trainable = False\n",
    "    new_model = Model(inputs=model.input,\n",
    "                  outputs=model.layers[-2].output)\n",
    "    new_model.set_weights(brodcast_weights.value)\n",
    "    return new_model"
   ]
  },
  {
   "cell_type": "markdown",
   "id": "e5620876",
   "metadata": {},
   "source": [
    "### Définition du processus de chargement des images et application <br/>de leur featurisation à travers l'utilisation de pandas UDF"
   ]
  },
  {
   "cell_type": "code",
   "execution_count": 18,
   "id": "dc4e5f69",
   "metadata": {},
   "outputs": [
    {
     "name": "stderr",
     "output_type": "stream",
     "text": [
      "/Users/oceaneyouyoutte/miniconda3/lib/python3.10/site-packages/pyspark/sql/pandas/functions.py:399: UserWarning: In Python 3.6+ and Spark 3.0+, it is preferred to specify type hints for pandas UDF instead of specifying pandas UDF type which will be deprecated in the future releases. See SPARK-28264 for more details.\n",
      "  warnings.warn(\n"
     ]
    }
   ],
   "source": [
    "def preprocess(content):\n",
    "    \"\"\"\n",
    "    Preprocesses raw image bytes for prediction.\n",
    "    \"\"\"\n",
    "    img = Image.open(io.BytesIO(content)).resize([224, 224])\n",
    "    arr = img_to_array(img)\n",
    "    return preprocess_input(arr)\n",
    "\n",
    "def featurize_series(model, content_series):\n",
    "    \"\"\"\n",
    "    Featurize a pd.Series of raw images using the input model.\n",
    "    :return: a pd.Series of image features\n",
    "    \"\"\"\n",
    "    input = np.stack(content_series.map(preprocess))\n",
    "    preds = model.predict(input)\n",
    "    # For some layers, output features will be multi-dimensional tensors.\n",
    "    # We flatten the feature tensors to vectors for easier storage in Spark DataFrames.\n",
    "    output = [p.flatten() for p in preds]\n",
    "    return pd.Series(output)\n",
    "\n",
    "@pandas_udf('array<float>', PandasUDFType.SCALAR_ITER)\n",
    "def featurize_udf(content_series_iter):\n",
    "    '''\n",
    "    This method is a Scalar Iterator pandas UDF wrapping our featurization function.\n",
    "    The decorator specifies that this returns a Spark DataFrame column of type ArrayType(FloatType).\n",
    "\n",
    "    :param content_series_iter: This argument is an iterator over batches of data, where each batch\n",
    "                              is a pandas Series of image data.\n",
    "    '''\n",
    "    # With Scalar Iterator pandas UDFs, we can load the model once and then re-use it\n",
    "    # for multiple data batches.  This amortizes the overhead of loading big models.\n",
    "    model = model_fn()\n",
    "    for content_series in content_series_iter:\n",
    "        yield featurize_series(model, content_series)"
   ]
  },
  {
   "cell_type": "markdown",
   "id": "2bdf2ef9",
   "metadata": {},
   "source": [
    "### Exécution des actions d'extraction de features"
   ]
  },
  {
   "cell_type": "code",
   "execution_count": 15,
   "id": "1f30d28c",
   "metadata": {},
   "outputs": [],
   "source": [
    "# spark.conf.set(\"spark.sql.execution.arrow.maxRecordsPerBatch\", \"1024\")"
   ]
  },
  {
   "cell_type": "code",
   "execution_count": 19,
   "id": "69c1767c",
   "metadata": {},
   "outputs": [],
   "source": [
    "features_df = images.repartition(20).select(col(\"path\"),\n",
    "                                            col(\"label\"),\n",
    "                                            featurize_udf(\"content\").alias(\"features\")\n",
    "                                           )"
   ]
  },
  {
   "cell_type": "code",
   "execution_count": 20,
   "id": "67fcdb0f",
   "metadata": {},
   "outputs": [
    {
     "name": "stdout",
     "output_type": "stream",
     "text": [
      "/Users/oceaneyouyoutte/Desktop/Data Science/OCR/Projet 8/P8_Mode_opératoire/data/Results\n"
     ]
    }
   ],
   "source": [
    "print(PATH_Result)"
   ]
  },
  {
   "cell_type": "markdown",
   "id": "f8901db3",
   "metadata": {},
   "source": [
    "<u>Enregistrement des données traitées au format \"**parquet**\"</u> :"
   ]
  },
  {
   "cell_type": "code",
   "execution_count": 21,
   "id": "95d07466",
   "metadata": {},
   "outputs": [
    {
     "name": "stderr",
     "output_type": "stream",
     "text": [
      "1/1 [==============================] - 1s 674ms/step               (0 + 1) / 20]\n",
      "1/1 [==============================] - 1s 540ms/step               (1 + 1) / 20]\n",
      "1/1 [==============================] - 1s 535ms/step               (2 + 1) / 20]\n",
      "1/1 [==============================] - 1s 526ms/step               (3 + 1) / 20]\n",
      "WARNING:tensorflow:5 out of the last 5 calls to <function Model.make_predict_function.<locals>.predict_function at 0x10f415630> triggered tf.function retracing. Tracing is expensive and the excessive number of tracings could be due to (1) creating @tf.function repeatedly in a loop, (2) passing tensors with different shapes, (3) passing Python objects instead of tensors. For (1), please define your @tf.function outside of the loop. For (2), @tf.function has reduce_retracing=True option that can avoid unnecessary retracing. For (3), please refer to https://www.tensorflow.org/guide/function#controlling_retracing and https://www.tensorflow.org/api_docs/python/tf/function for  more details.\n",
      "1/1 [==============================] - 1s 533ms/step\n",
      "WARNING:tensorflow:6 out of the last 6 calls to <function Model.make_predict_function.<locals>.predict_function at 0x177f553f0> triggered tf.function retracing. Tracing is expensive and the excessive number of tracings could be due to (1) creating @tf.function repeatedly in a loop, (2) passing tensors with different shapes, (3) passing Python objects instead of tensors. For (1), please define your @tf.function outside of the loop. For (2), @tf.function has reduce_retracing=True option that can avoid unnecessary retracing. For (3), please refer to https://www.tensorflow.org/guide/function#controlling_retracing and https://www.tensorflow.org/api_docs/python/tf/function for  more details.\n",
      "1/1 [==============================] - 1s 533ms/step\n",
      "1/1 [==============================] - 1s 553ms/step               (6 + 1) / 20]\n",
      "1/1 [==============================] - 1s 531ms/step               (7 + 1) / 20]\n",
      "1/1 [==============================] - 1s 550ms/step               (8 + 1) / 20]\n",
      "1/1 [==============================] - 1s 579ms/step               (9 + 1) / 20]\n",
      "1/1 [==============================] - 1s 626ms/step              (10 + 1) / 20]\n",
      "1/1 [==============================] - 1s 588ms/step              (11 + 1) / 20]\n",
      "1/1 [==============================] - 1s 570ms/step              (12 + 1) / 20]\n",
      "1/1 [==============================] - 1s 584ms/step              (13 + 1) / 20]\n",
      "1/1 [==============================] - 1s 554ms/step              (14 + 1) / 20]\n",
      "1/1 [==============================] - 1s 555ms/step              (15 + 1) / 20]\n",
      "1/1 [==============================] - 1s 559ms/step==>           (16 + 1) / 20]\n",
      "1/1 [==============================] - 1s 556ms/step=====>        (17 + 1) / 20]\n",
      "1/1 [==============================] - 1s 550ms/step========>     (18 + 1) / 20]\n",
      "1/1 [==============================] - 1s 550ms/step===========>  (19 + 1) / 20]\n",
      "                                                                                \r"
     ]
    }
   ],
   "source": [
    "features_df.write.mode(\"overwrite\").parquet(PATH_Result)"
   ]
  },
  {
   "cell_type": "markdown",
   "id": "f9506f21",
   "metadata": {},
   "source": [
    "## Chargement des données enregistrées et validation du résultat"
   ]
  },
  {
   "cell_type": "code",
   "execution_count": 22,
   "id": "19243bf5",
   "metadata": {},
   "outputs": [],
   "source": [
    "df = pd.read_parquet(PATH_Result, engine='pyarrow')"
   ]
  },
  {
   "cell_type": "code",
   "execution_count": 23,
   "id": "8a1bcdeb",
   "metadata": {},
   "outputs": [
    {
     "data": {
      "text/html": [
       "<div>\n",
       "<style scoped>\n",
       "    .dataframe tbody tr th:only-of-type {\n",
       "        vertical-align: middle;\n",
       "    }\n",
       "\n",
       "    .dataframe tbody tr th {\n",
       "        vertical-align: top;\n",
       "    }\n",
       "\n",
       "    .dataframe thead th {\n",
       "        text-align: right;\n",
       "    }\n",
       "</style>\n",
       "<table border=\"1\" class=\"dataframe\">\n",
       "  <thead>\n",
       "    <tr style=\"text-align: right;\">\n",
       "      <th></th>\n",
       "      <th>path</th>\n",
       "      <th>label</th>\n",
       "      <th>features</th>\n",
       "    </tr>\n",
       "  </thead>\n",
       "  <tbody>\n",
       "    <tr>\n",
       "      <th>0</th>\n",
       "      <td>file:/Users/oceaneyouyoutte/Desktop/Data Scien...</td>\n",
       "      <td>Cauliflower</td>\n",
       "      <td>[0.0, 1.5177789, 1.2785709, 0.0, 0.0, 0.0, 0.0...</td>\n",
       "    </tr>\n",
       "    <tr>\n",
       "      <th>1</th>\n",
       "      <td>file:/Users/oceaneyouyoutte/Desktop/Data Scien...</td>\n",
       "      <td>Pineapple</td>\n",
       "      <td>[0.0, 3.23245, 0.6239703, 0.0, 0.0, 0.03144627...</td>\n",
       "    </tr>\n",
       "    <tr>\n",
       "      <th>2</th>\n",
       "      <td>file:/Users/oceaneyouyoutte/Desktop/Data Scien...</td>\n",
       "      <td>Potato White</td>\n",
       "      <td>[0.004783027, 0.0, 0.0, 0.0, 0.053286135, 0.02...</td>\n",
       "    </tr>\n",
       "    <tr>\n",
       "      <th>3</th>\n",
       "      <td>file:/Users/oceaneyouyoutte/Desktop/Data Scien...</td>\n",
       "      <td>Apple Red 1</td>\n",
       "      <td>[0.004372801, 0.030688763, 0.058095757, 0.0, 0...</td>\n",
       "    </tr>\n",
       "    <tr>\n",
       "      <th>4</th>\n",
       "      <td>file:/Users/oceaneyouyoutte/Desktop/Data Scien...</td>\n",
       "      <td>Apple Red Yellow 1</td>\n",
       "      <td>[0.12546742, 0.046856567, 0.0, 0.0, 0.01564947...</td>\n",
       "    </tr>\n",
       "  </tbody>\n",
       "</table>\n",
       "</div>"
      ],
      "text/plain": [
       "                                                path               label  \\\n",
       "0  file:/Users/oceaneyouyoutte/Desktop/Data Scien...         Cauliflower   \n",
       "1  file:/Users/oceaneyouyoutte/Desktop/Data Scien...           Pineapple   \n",
       "2  file:/Users/oceaneyouyoutte/Desktop/Data Scien...        Potato White   \n",
       "3  file:/Users/oceaneyouyoutte/Desktop/Data Scien...         Apple Red 1   \n",
       "4  file:/Users/oceaneyouyoutte/Desktop/Data Scien...  Apple Red Yellow 1   \n",
       "\n",
       "                                            features  \n",
       "0  [0.0, 1.5177789, 1.2785709, 0.0, 0.0, 0.0, 0.0...  \n",
       "1  [0.0, 3.23245, 0.6239703, 0.0, 0.0, 0.03144627...  \n",
       "2  [0.004783027, 0.0, 0.0, 0.0, 0.053286135, 0.02...  \n",
       "3  [0.004372801, 0.030688763, 0.058095757, 0.0, 0...  \n",
       "4  [0.12546742, 0.046856567, 0.0, 0.0, 0.01564947...  "
      ]
     },
     "execution_count": 23,
     "metadata": {},
     "output_type": "execute_result"
    }
   ],
   "source": [
    "df.head()"
   ]
  },
  {
   "cell_type": "code",
   "execution_count": 24,
   "id": "0bb933b9",
   "metadata": {},
   "outputs": [
    {
     "data": {
      "text/plain": [
       "(1280,)"
      ]
     },
     "execution_count": 24,
     "metadata": {},
     "output_type": "execute_result"
    }
   ],
   "source": [
    "df.loc[0,'features'].shape"
   ]
  },
  {
   "cell_type": "markdown",
   "id": "70d6eb14",
   "metadata": {},
   "source": [
    "## Réduction de dimension - ACP"
   ]
  },
  {
   "cell_type": "code",
   "execution_count": 26,
   "id": "71380dca",
   "metadata": {},
   "outputs": [
    {
     "name": "stderr",
     "output_type": "stream",
     "text": [
      "1/1 [==============================] - 0s 473ms/step                (0 + 1) / 1]\n"
     ]
    },
    {
     "name": "stdout",
     "output_type": "stream",
     "text": [
      "+--------------------+------------------+--------------------+--------------------+\n",
      "|                path|             label|            features|           image_vec|\n",
      "+--------------------+------------------+--------------------+--------------------+\n",
      "|file:/Users/ocean...|       Cauliflower|[0.0, 1.5177789, ...|[0.0,1.5177788734...|\n",
      "|file:/Users/ocean...|         Pineapple|[0.0, 3.23245, 0....|[0.0,3.2324500083...|\n",
      "|file:/Users/ocean...|      Potato White|[0.004783027, 0.0...|[0.00478302687406...|\n",
      "|file:/Users/ocean...|       Apple Red 1|[0.004372801, 0.0...|[0.00437280116602...|\n",
      "|file:/Users/ocean...|Apple Red Yellow 1|[0.12546742, 0.04...|[0.12546741962432...|\n",
      "+--------------------+------------------+--------------------+--------------------+\n",
      "only showing top 5 rows\n",
      "\n"
     ]
    },
    {
     "name": "stderr",
     "output_type": "stream",
     "text": [
      "\r",
      "                                                                                \r"
     ]
    }
   ],
   "source": [
    "# Les données images sont converties au format vecteur dense\n",
    "ud_f = udf(lambda r: Vectors.dense(r), VectorUDT())\n",
    "vectorized_df = features_df.withColumn('image_vec', ud_f('features'))\n",
    "vectorized_df.show(5)"
   ]
  },
  {
   "cell_type": "code",
   "execution_count": 27,
   "id": "8b4f31fb",
   "metadata": {},
   "outputs": [
    {
     "name": "stderr",
     "output_type": "stream",
     "text": [
      "1/1 [==============================] - 1s 583ms/step               (0 + 1) / 20]\n",
      "1/1 [==============================] - 1s 536ms/step               (1 + 1) / 20]\n",
      "1/1 [==============================] - 1s 530ms/step               (2 + 1) / 20]\n",
      "1/1 [==============================] - 1s 533ms/step               (3 + 1) / 20]\n",
      "WARNING:tensorflow:5 out of the last 5 calls to <function Model.make_predict_function.<locals>.predict_function at 0x10f419630> triggered tf.function retracing. Tracing is expensive and the excessive number of tracings could be due to (1) creating @tf.function repeatedly in a loop, (2) passing tensors with different shapes, (3) passing Python objects instead of tensors. For (1), please define your @tf.function outside of the loop. For (2), @tf.function has reduce_retracing=True option that can avoid unnecessary retracing. For (3), please refer to https://www.tensorflow.org/guide/function#controlling_retracing and https://www.tensorflow.org/api_docs/python/tf/function for  more details.\n",
      "1/1 [==============================] - 1s 535ms/step\n",
      "WARNING:tensorflow:6 out of the last 6 calls to <function Model.make_predict_function.<locals>.predict_function at 0x1780553f0> triggered tf.function retracing. Tracing is expensive and the excessive number of tracings could be due to (1) creating @tf.function repeatedly in a loop, (2) passing tensors with different shapes, (3) passing Python objects instead of tensors. For (1), please define your @tf.function outside of the loop. For (2), @tf.function has reduce_retracing=True option that can avoid unnecessary retracing. For (3), please refer to https://www.tensorflow.org/guide/function#controlling_retracing and https://www.tensorflow.org/api_docs/python/tf/function for  more details.\n",
      "1/1 [==============================] - 1s 531ms/step\n",
      "1/1 [==============================] - 1s 527ms/step               (6 + 1) / 20]\n",
      "1/1 [==============================] - 1s 528ms/step               (7 + 1) / 20]\n",
      "1/1 [==============================] - 1s 528ms/step               (8 + 1) / 20]\n",
      "1/1 [==============================] - 1s 542ms/step               (9 + 1) / 20]\n",
      "1/1 [==============================] - 1s 579ms/step              (10 + 1) / 20]\n",
      "1/1 [==============================] - 1s 581ms/step              (11 + 1) / 20]\n",
      "1/1 [==============================] - 1s 559ms/step              (12 + 1) / 20]\n",
      "1/1 [==============================] - 1s 553ms/step              (13 + 1) / 20]\n",
      "1/1 [==============================] - 1s 557ms/step              (14 + 1) / 20]\n",
      "1/1 [==============================] - 1s 553ms/step>             (15 + 1) / 20]\n",
      "1/1 [==============================] - 1s 556ms/step==>           (16 + 1) / 20]\n",
      "1/1 [==============================] - 1s 596ms/step=====>        (17 + 1) / 20]\n",
      "1/1 [==============================] - 1s 554ms/step========>     (18 + 1) / 20]\n",
      "1/1 [==============================] - 1s 553ms/step===========>  (19 + 1) / 20]\n",
      "                                                                                \r"
     ]
    }
   ],
   "source": [
    "standardizer = StandardScaler(withMean=True, withStd=True,\n",
    "                              inputCol='image_vec',\n",
    "                              outputCol='feats_scaled')\n",
    "std = standardizer.fit(vectorized_df)\n",
    "features_df_scaled = std.transform(vectorized_df)"
   ]
  },
  {
   "cell_type": "code",
   "execution_count": 28,
   "id": "34292b88",
   "metadata": {},
   "outputs": [
    {
     "name": "stdout",
     "output_type": "stream",
     "text": [
      "root\n",
      " |-- path: string (nullable = true)\n",
      " |-- label: string (nullable = true)\n",
      " |-- features: array (nullable = true)\n",
      " |    |-- element: float (containsNull = true)\n",
      " |-- image_vec: vector (nullable = true)\n",
      " |-- feats_scaled: vector (nullable = true)\n",
      "\n"
     ]
    },
    {
     "name": "stderr",
     "output_type": "stream",
     "text": [
      "1/1 [==============================] - 0s 474ms/step                (0 + 1) / 1]\n"
     ]
    },
    {
     "name": "stdout",
     "output_type": "stream",
     "text": [
      "+--------------------+------------------+--------------------+--------------------+--------------------+\n",
      "|                path|             label|            features|           image_vec|        feats_scaled|\n",
      "+--------------------+------------------+--------------------+--------------------+--------------------+\n",
      "|file:/Users/ocean...|       Cauliflower|[0.0, 1.5177789, ...|[0.0,1.5177788734...|[-0.7742883467037...|\n",
      "|file:/Users/ocean...|         Pineapple|[0.0, 3.23245, 0....|[0.0,3.2324500083...|[-0.7742883467037...|\n",
      "|file:/Users/ocean...|      Potato White|[0.004783027, 0.0...|[0.00478302687406...|[-0.7651209686269...|\n",
      "|file:/Users/ocean...|       Apple Red 1|[0.004372801, 0.0...|[0.00437280116602...|[-0.7659072268399...|\n",
      "|file:/Users/ocean...|Apple Red Yellow 1|[0.12546742, 0.04...|[0.12546741962432...|[-0.5338114892038...|\n",
      "+--------------------+------------------+--------------------+--------------------+--------------------+\n",
      "only showing top 5 rows\n",
      "\n"
     ]
    },
    {
     "name": "stderr",
     "output_type": "stream",
     "text": [
      "\r",
      "                                                                                \r"
     ]
    }
   ],
   "source": [
    "features_df_scaled.printSchema()\n",
    "features_df_scaled.show(5) "
   ]
  },
  {
   "cell_type": "code",
   "execution_count": 30,
   "id": "599c2492",
   "metadata": {},
   "outputs": [
    {
     "name": "stderr",
     "output_type": "stream",
     "text": [
      "\r",
      "[Stage 22:>                                                         (0 + 1) / 1]\r"
     ]
    },
    {
     "name": "stdout",
     "output_type": "stream",
     "text": [
      " le nombre de features par image est de:  1280\n"
     ]
    },
    {
     "name": "stderr",
     "output_type": "stream",
     "text": [
      "\r",
      "1/1 [==============================] - ETA: 0s\b\b\b\b\b\b\b\b\b\b\b\b\b\b\b\b\b\b\b\b\b\b\b\b\b\b\b\b\b\b\b\b\b\b\b\b\b\b\b\b\b\b\b\b\b\b\r",
      "1/1 [==============================] - 0s 462ms/step\n",
      "\r",
      "                                                                                \r"
     ]
    }
   ],
   "source": [
    "# nombre de features par image\n",
    "first_row = features_df_scaled.select(\"features\").take(1)\n",
    "print(\" le nombre de features par image est de: \", len(first_row[0][0]))"
   ]
  },
  {
   "cell_type": "code",
   "execution_count": 31,
   "id": "40e300c1",
   "metadata": {
    "scrolled": true
   },
   "outputs": [
    {
     "name": "stderr",
     "output_type": "stream",
     "text": [
      "1/1 [==============================] - 1s 580ms/step                (0 + 1) / 1]\n",
      "1/1 [==============================] - 1s 544ms/step                (0 + 1) / 1]\n",
      "1/1 [==============================] - 1s 547ms/step               (0 + 1) / 20]\n",
      "1/1 [==============================] - 1s 558ms/step               (1 + 1) / 20]\n",
      "WARNING:tensorflow:5 out of the last 5 calls to <function Model.make_predict_function.<locals>.predict_function at 0x10f415630> triggered tf.function retracing. Tracing is expensive and the excessive number of tracings could be due to (1) creating @tf.function repeatedly in a loop, (2) passing tensors with different shapes, (3) passing Python objects instead of tensors. For (1), please define your @tf.function outside of the loop. For (2), @tf.function has reduce_retracing=True option that can avoid unnecessary retracing. For (3), please refer to https://www.tensorflow.org/guide/function#controlling_retracing and https://www.tensorflow.org/api_docs/python/tf/function for  more details.\n",
      "1/1 [==============================] - 1s 546ms/step\n",
      "WARNING:tensorflow:6 out of the last 6 calls to <function Model.make_predict_function.<locals>.predict_function at 0x177b593f0> triggered tf.function retracing. Tracing is expensive and the excessive number of tracings could be due to (1) creating @tf.function repeatedly in a loop, (2) passing tensors with different shapes, (3) passing Python objects instead of tensors. For (1), please define your @tf.function outside of the loop. For (2), @tf.function has reduce_retracing=True option that can avoid unnecessary retracing. For (3), please refer to https://www.tensorflow.org/guide/function#controlling_retracing and https://www.tensorflow.org/api_docs/python/tf/function for  more details.\n",
      "1/1 [==============================] - 1s 536ms/step\n",
      "1/1 [==============================] - 1s 536ms/step               (4 + 1) / 20]\n",
      "1/1 [==============================] - 1s 537ms/step               (5 + 1) / 20]\n",
      "1/1 [==============================] - 1s 527ms/step               (6 + 1) / 20]\n",
      "1/1 [==============================] - 1s 526ms/step               (7 + 1) / 20]\n",
      "1/1 [==============================] - 1s 531ms/step               (8 + 1) / 20]\n",
      "1/1 [==============================] - 1s 545ms/step               (9 + 1) / 20]\n",
      "1/1 [==============================] - 1s 603ms/step              (10 + 1) / 20]\n",
      "1/1 [==============================] - 1s 586ms/step              (11 + 1) / 20]\n",
      "1/1 [==============================] - 1s 556ms/step              (12 + 1) / 20]\n",
      "1/1 [==============================] - 1s 569ms/step              (13 + 1) / 20]\n",
      "1/1 [==============================] - 1s 560ms/step              (14 + 1) / 20]\n",
      "1/1 [==============================] - 1s 560ms/step>             (15 + 1) / 20]\n",
      "1/1 [==============================] - 1s 553ms/step==>           (16 + 1) / 20]\n",
      "1/1 [==============================] - 1s 571ms/step=====>        (17 + 1) / 20]\n",
      "1/1 [==============================] - 1s 554ms/step========>     (18 + 1) / 20]\n",
      "1/1 [==============================] - 1s 572ms/step===========>  (19 + 1) / 20]\n",
      "1/1 [==============================] - 1s 563ms/step                (0 + 1) / 1]\n",
      "1/1 [==============================] - 1s 571ms/step               (0 + 1) / 20]\n",
      "23/07/28 22:08:50 WARN InstanceBuilder: Failed to load implementation from:dev.ludovic.netlib.blas.JNIBLAS\n",
      "1/1 [==============================] - 1s 547ms/step               (1 + 1) / 20]\n",
      "1/1 [==============================] - 1s 535ms/step               (2 + 1) / 20]\n",
      "1/1 [==============================] - 1s 538ms/step               (3 + 1) / 20]\n",
      "1/1 [==============================] - 1s 538ms/step               (4 + 1) / 20]\n",
      "1/1 [==============================] - 1s 530ms/step               (5 + 1) / 20]\n",
      "1/1 [==============================] - 1s 528ms/step               (6 + 1) / 20]\n",
      "1/1 [==============================] - 1s 547ms/step               (7 + 1) / 20]\n",
      "1/1 [==============================] - 1s 544ms/step               (8 + 1) / 20]\n",
      "1/1 [==============================] - 1s 546ms/step               (9 + 1) / 20]\n",
      "1/1 [==============================] - 1s 552ms/step              (10 + 1) / 20]\n",
      "1/1 [==============================] - 1s 556ms/step              (11 + 1) / 20]\n",
      "1/1 [==============================] - 1s 561ms/step              (12 + 1) / 20]\n",
      "1/1 [==============================] - 1s 552ms/step              (13 + 1) / 20]\n",
      "1/1 [==============================] - 1s 554ms/step              (14 + 1) / 20]\n",
      "1/1 [==============================] - 1s 550ms/step>             (15 + 1) / 20]\n",
      "1/1 [==============================] - 1s 558ms/step==>           (16 + 1) / 20]\n",
      "1/1 [==============================] - 1s 558ms/step=====>        (17 + 1) / 20]\n",
      "1/1 [==============================] - 1s 550ms/step========>     (18 + 1) / 20]\n",
      "1/1 [==============================] - 1s 551ms/step===========>  (19 + 1) / 20]\n",
      "23/07/28 22:09:16 WARN InstanceBuilder: Failed to load implementation from:dev.ludovic.netlib.lapack.JNILAPACK\n"
     ]
    }
   ],
   "source": [
    "pca = PCA(k=300, inputCol=\"feats_scaled\", outputCol=\"pca_feat\")\n",
    "modelpca = pca.fit(features_df_scaled)"
   ]
  },
  {
   "cell_type": "code",
   "execution_count": 32,
   "id": "7da5f721",
   "metadata": {},
   "outputs": [
    {
     "data": {
      "image/png": "[encoded data removed]",
      "text/plain": [
       "<Figure size 1200x800 with 1 Axes>"
      ]
     },
     "metadata": {},
     "output_type": "display_data"
    }
   ],
   "source": [
    "sum_var_pca = np.cumsum(modelpca.explainedVariance)\n",
    "\n",
    "plt.figure(figsize=(12,8))\n",
    "plt.title(\"Variance cumulée des composantes de l'ACP\")\n",
    "plt.xlabel(\"Nombre de composantes de l'ACP\")\n",
    "plt.ylabel(\"Variance cumulee\")\n",
    "\n",
    "plt.plot(range(len(sum_var_pca)), sum_var_pca)\n",
    "plt.axhline(y=0.99, color='r', linestyle='--')\n",
    "plt.axhline(y=0.9, color='g', linestyle='--')\n",
    "\n",
    "plt.show()"
   ]
  },
  {
   "cell_type": "code",
   "execution_count": 33,
   "id": "1a8f4c4b",
   "metadata": {},
   "outputs": [
    {
     "data": {
      "text/plain": [
       "0.9463885350462244"
      ]
     },
     "execution_count": 33,
     "metadata": {},
     "output_type": "execute_result"
    }
   ],
   "source": [
    "sum_var_pca[200]"
   ]
  },
  {
   "cell_type": "code",
   "execution_count": 34,
   "id": "491e0b31",
   "metadata": {
    "scrolled": true
   },
   "outputs": [
    {
     "name": "stderr",
     "output_type": "stream",
     "text": [
      "1/1 [==============================] - 1s 561ms/step                (0 + 1) / 1]\n",
      "1/1 [==============================] - 1s 543ms/step                (0 + 1) / 1]\n",
      "1/1 [==============================] - 1s 542ms/step               (0 + 1) / 20]\n",
      "1/1 [==============================] - 1s 532ms/step               (1 + 1) / 20]\n",
      "1/1 [==============================] - 1s 529ms/step               (2 + 1) / 20]\n",
      "1/1 [==============================] - 1s 527ms/step               (3 + 1) / 20]\n",
      "1/1 [==============================] - 1s 535ms/step               (4 + 1) / 20]\n",
      "1/1 [==============================] - 1s 525ms/step               (5 + 1) / 20]\n",
      "1/1 [==============================] - 1s 530ms/step               (6 + 1) / 20]\n",
      "1/1 [==============================] - 1s 526ms/step               (7 + 1) / 20]\n",
      "1/1 [==============================] - 1s 524ms/step               (8 + 1) / 20]\n",
      "1/1 [==============================] - 1s 543ms/step               (9 + 1) / 20]\n",
      "1/1 [==============================] - 1s 552ms/step              (10 + 1) / 20]\n",
      "1/1 [==============================] - 1s 562ms/step              (11 + 1) / 20]\n",
      "1/1 [==============================] - 1s 561ms/step              (12 + 1) / 20]\n",
      "1/1 [==============================] - 1s 554ms/step              (13 + 1) / 20]\n",
      "1/1 [==============================] - 1s 558ms/step              (14 + 1) / 20]\n",
      "1/1 [==============================] - 1s 556ms/step>             (15 + 1) / 20]\n",
      "1/1 [==============================] - 1s 562ms/step==>           (16 + 1) / 20]\n",
      "1/1 [==============================] - 1s 556ms/step=====>        (17 + 1) / 20]\n",
      "1/1 [==============================] - 1s 556ms/step========>     (18 + 1) / 20]\n",
      "1/1 [==============================] - 1s 549ms/step===========>  (19 + 1) / 20]\n",
      "1/1 [==============================] - 1s 553ms/step                (0 + 1) / 1]\n",
      "1/1 [==============================] - 1s 548ms/step               (0 + 1) / 20]\n",
      "1/1 [==============================] - 1s 536ms/step               (1 + 1) / 20]\n",
      "1/1 [==============================] - 1s 532ms/step               (2 + 1) / 20]\n",
      "1/1 [==============================] - 1s 528ms/step               (3 + 1) / 20]\n",
      "1/1 [==============================] - 1s 535ms/step               (4 + 1) / 20]\n",
      "1/1 [==============================] - 1s 532ms/step               (5 + 1) / 20]\n",
      "1/1 [==============================] - 1s 536ms/step               (6 + 1) / 20]\n",
      "1/1 [==============================] - 1s 534ms/step               (7 + 1) / 20]\n",
      "1/1 [==============================] - 1s 534ms/step               (8 + 1) / 20]\n",
      "1/1 [==============================] - 1s 547ms/step               (9 + 1) / 20]\n",
      "1/1 [==============================] - 1s 553ms/step              (10 + 1) / 20]\n",
      "1/1 [==============================] - 1s 559ms/step              (11 + 1) / 20]\n",
      "1/1 [==============================] - 1s 562ms/step              (12 + 1) / 20]\n",
      "1/1 [==============================] - 1s 554ms/step              (13 + 1) / 20]\n",
      "1/1 [==============================] - 1s 577ms/step              (14 + 1) / 20]\n",
      "1/1 [==============================] - 1s 553ms/step>             (15 + 1) / 20]\n",
      "1/1 [==============================] - 1s 564ms/step==>           (16 + 1) / 20]\n",
      "1/1 [==============================] - 1s 554ms/step=====>        (17 + 1) / 20]\n",
      "1/1 [==============================] - 1s 551ms/step========>     (18 + 1) / 20]\n",
      "1/1 [==============================] - 1s 553ms/step===========>  (19 + 1) / 20]\n",
      "                                                                                \r"
     ]
    }
   ],
   "source": [
    "pca_opti = PCA(k=200, inputCol=\"feats_scaled\", outputCol=\"pca_feat\")\n",
    "modelpca_opti = pca_opti.fit(features_df_scaled)"
   ]
  },
  {
   "cell_type": "code",
   "execution_count": 35,
   "id": "86ea20bb",
   "metadata": {},
   "outputs": [],
   "source": [
    "transformed = modelpca_opti.transform(features_df_scaled)"
   ]
  },
  {
   "cell_type": "code",
   "execution_count": 36,
   "id": "72ce6f2a",
   "metadata": {},
   "outputs": [
    {
     "name": "stderr",
     "output_type": "stream",
     "text": [
      "23/07/28 22:11:08 WARN DAGScheduler: Broadcasting large task binary with size 2.0 MiB\n",
      "[Stage 51:>                                                         (0 + 1) / 1]\r"
     ]
    },
    {
     "name": "stdout",
     "output_type": "stream",
     "text": [
      "+--------------------+------------------+--------------------+--------------------+--------------------+--------------------+\n",
      "|                path|             label|            features|           image_vec|        feats_scaled|            pca_feat|\n",
      "+--------------------+------------------+--------------------+--------------------+--------------------+--------------------+\n",
      "|file:/Users/ocean...|       Cauliflower|[0.0, 1.5177789, ...|[0.0,1.5177788734...|[-0.7742883467037...|[7.44918994780901...|\n",
      "|file:/Users/ocean...|         Pineapple|[0.0, 3.23245, 0....|[0.0,3.2324500083...|[-0.7742883467037...|[14.3105529155911...|\n",
      "|file:/Users/ocean...|      Potato White|[0.004783027, 0.0...|[0.00478302687406...|[-0.7651209686269...|[-2.0633113579790...|\n",
      "|file:/Users/ocean...|       Apple Red 1|[0.004372801, 0.0...|[0.00437280116602...|[-0.7659072268399...|[-4.1465544434269...|\n",
      "|file:/Users/ocean...|Apple Red Yellow 1|[0.12546742, 0.04...|[0.12546741962432...|[-0.5338114892038...|[-13.617877556624...|\n",
      "+--------------------+------------------+--------------------+--------------------+--------------------+--------------------+\n",
      "only showing top 5 rows\n",
      "\n"
     ]
    },
    {
     "name": "stderr",
     "output_type": "stream",
     "text": [
      "\r",
      "1/1 [==============================] - ETA: 0s\b\b\b\b\b\b\b\b\b\b\b\b\b\b\b\b\b\b\b\b\b\b\b\b\b\b\b\b\b\b\b\b\b\b\b\b\b\b\b\b\b\b\b\b\b\b\r",
      "1/1 [==============================] - 1s 556ms/step\n",
      "\r",
      "                                                                                \r"
     ]
    }
   ],
   "source": [
    "transformed.show(5)"
   ]
  },
  {
   "cell_type": "code",
   "execution_count": 37,
   "id": "1221b751",
   "metadata": {},
   "outputs": [],
   "source": [
    "df_final = transformed.select('path', 'label', 'pca_feat')"
   ]
  },
  {
   "cell_type": "code",
   "execution_count": 38,
   "id": "cf0b0dc6",
   "metadata": {},
   "outputs": [
    {
     "name": "stderr",
     "output_type": "stream",
     "text": [
      "23/07/28 22:11:13 WARN DAGScheduler: Broadcasting large task binary with size 2.0 MiB\n",
      "1/1 [==============================] - 0s 470ms/step                (0 + 1) / 1]\n"
     ]
    },
    {
     "name": "stdout",
     "output_type": "stream",
     "text": [
      "+--------------------+------------------+--------------------+\n",
      "|                path|             label|            pca_feat|\n",
      "+--------------------+------------------+--------------------+\n",
      "|file:/Users/ocean...|       Cauliflower|[7.44918994780901...|\n",
      "|file:/Users/ocean...|         Pineapple|[14.3105529155911...|\n",
      "|file:/Users/ocean...|      Potato White|[-2.0633113579790...|\n",
      "|file:/Users/ocean...|       Apple Red 1|[-4.1465544434269...|\n",
      "|file:/Users/ocean...|Apple Red Yellow 1|[-13.617877556624...|\n",
      "+--------------------+------------------+--------------------+\n",
      "only showing top 5 rows\n",
      "\n"
     ]
    },
    {
     "name": "stderr",
     "output_type": "stream",
     "text": [
      "\r",
      "                                                                                \r"
     ]
    }
   ],
   "source": [
    "df_final.show(5)"
   ]
  },
  {
   "cell_type": "raw",
   "id": "c19151c3",
   "metadata": {},
   "source": [
    "features_df.write.mode(\"overwrite\").parquet(PATH_Result)"
   ]
  },
  {
   "cell_type": "code",
   "execution_count": 40,
   "id": "57fdf533",
   "metadata": {
    "scrolled": true
   },
   "outputs": [
    {
     "name": "stderr",
     "output_type": "stream",
     "text": [
      "23/07/28 22:11:52 WARN DAGScheduler: Broadcasting large task binary with size 2.2 MiB\n",
      "1/1 [==============================] - 1s 545ms/step               (0 + 1) / 20]\n",
      "1/1 [==============================] - 1s 537ms/step               (1 + 1) / 20]\n",
      "1/1 [==============================] - 1s 529ms/step               (2 + 1) / 20]\n",
      "1/1 [==============================] - 1s 557ms/step               (3 + 1) / 20]\n",
      "1/1 [==============================] - 1s 542ms/step               (4 + 1) / 20]\n",
      "1/1 [==============================] - 1s 538ms/step               (5 + 1) / 20]\n",
      "1/1 [==============================] - 1s 538ms/step               (6 + 1) / 20]\n",
      "1/1 [==============================] - 1s 538ms/step               (7 + 1) / 20]\n",
      "1/1 [==============================] - 1s 532ms/step               (8 + 1) / 20]\n",
      "1/1 [==============================] - 1s 546ms/step               (9 + 1) / 20]\n",
      "1/1 [==============================] - 1s 548ms/step              (10 + 1) / 20]\n",
      "1/1 [==============================] - 1s 561ms/step              (11 + 1) / 20]\n",
      "1/1 [==============================] - 1s 553ms/step              (12 + 1) / 20]\n",
      "1/1 [==============================] - 1s 550ms/step              (13 + 1) / 20]\n",
      "1/1 [==============================] - 1s 553ms/step              (14 + 1) / 20]\n",
      "1/1 [==============================] - 1s 548ms/step>             (15 + 1) / 20]\n",
      "1/1 [==============================] - 1s 556ms/step==>           (16 + 1) / 20]\n",
      "1/1 [==============================] - 1s 554ms/step=====>        (17 + 1) / 20]\n",
      "1/1 [==============================] - 1s 554ms/step========>     (18 + 1) / 20]\n",
      "1/1 [==============================] - 1s 551ms/step===========>  (19 + 1) / 20]\n",
      "                                                                                \r"
     ]
    }
   ],
   "source": [
    "# Sauvegarde des donnees au format parquet dans S3\n",
    "\n",
    "df_final.write.mode('overwrite').parquet(PATH_Result)"
   ]
  },
  {
   "cell_type": "code",
   "execution_count": 44,
   "id": "e7d9e131",
   "metadata": {},
   "outputs": [
    {
     "name": "stderr",
     "output_type": "stream",
     "text": [
      "23/07/28 22:17:58 WARN DAGScheduler: Broadcasting large task binary with size 2.2 MiB\n",
      "1/1 [==============================] - 0s 349ms/step               (0 + 1) / 20]\n",
      "1/1 [==============================] - 0s 335ms/step               (1 + 1) / 20]\n",
      "1/1 [==============================] - 0s 339ms/step               (2 + 1) / 20]\n",
      "1/1 [==============================] - 0s 331ms/step               (3 + 1) / 20]\n",
      "1/1 [==============================] - 0s 354ms/step               (4 + 1) / 20]\n",
      "1/1 [==============================] - 0s 345ms/step               (5 + 1) / 20]\n",
      "1/1 [==============================] - 0s 329ms/step               (6 + 1) / 20]\n",
      "1/1 [==============================] - 0s 330ms/step               (7 + 1) / 20]\n",
      "1/1 [==============================] - 0s 330ms/step               (8 + 1) / 20]\n",
      "1/1 [==============================] - 0s 372ms/step               (9 + 1) / 20]\n",
      "1/1 [==============================] - 0s 356ms/step              (10 + 1) / 20]\n",
      "1/1 [==============================] - 0s 365ms/step              (11 + 1) / 20]\n",
      "1/1 [==============================] - 0s 360ms/step              (12 + 1) / 20]\n",
      "1/1 [==============================] - 0s 343ms/step              (13 + 1) / 20]\n",
      "1/1 [==============================] - 0s 375ms/step              (14 + 1) / 20]\n",
      "1/1 [==============================] - 0s 349ms/step>             (15 + 1) / 20]\n",
      "1/1 [==============================] - 0s 358ms/step==>           (16 + 1) / 20]\n",
      "1/1 [==============================] - 0s 351ms/step=====>        (17 + 1) / 20]\n",
      "1/1 [==============================] - 0s 347ms/step========>     (18 + 1) / 20]\n",
      "1/1 [==============================] - 0s 357ms/step===========>  (19 + 1) / 20]\n",
      "                                                                                \r"
     ]
    }
   ],
   "source": [
    "# sauvegarde en format csv\n",
    "\n",
    "format_udf = udf(lambda x: str(x), StringType()) \n",
    "\n",
    "df_csv = df_final.withColumn('pca_feat', format_udf(col('pca_feat')))\n",
    "\n",
    "df_csv.write.mode(\"overwrite\").option(\"delimiter\", \"\\t\").option(\"header\",\"true\").csv(PATH_Result + \"_acp.csv\")"
   ]
  },
  {
   "cell_type": "markdown",
   "id": "c7c52585",
   "metadata": {},
   "source": [
    "### Chargement des données enregistrées et validation du résultat"
   ]
  },
  {
   "cell_type": "code",
   "execution_count": 46,
   "id": "83c1e912",
   "metadata": {},
   "outputs": [
    {
     "data": {
      "text/html": [
       "<div>\n",
       "<style scoped>\n",
       "    .dataframe tbody tr th:only-of-type {\n",
       "        vertical-align: middle;\n",
       "    }\n",
       "\n",
       "    .dataframe tbody tr th {\n",
       "        vertical-align: top;\n",
       "    }\n",
       "\n",
       "    .dataframe thead th {\n",
       "        text-align: right;\n",
       "    }\n",
       "</style>\n",
       "<table border=\"1\" class=\"dataframe\">\n",
       "  <thead>\n",
       "    <tr style=\"text-align: right;\">\n",
       "      <th></th>\n",
       "      <th>path</th>\n",
       "      <th>label</th>\n",
       "      <th>pca_feat</th>\n",
       "    </tr>\n",
       "  </thead>\n",
       "  <tbody>\n",
       "    <tr>\n",
       "      <th>0</th>\n",
       "      <td>file:/Users/oceaneyouyoutte/Desktop/Data Scien...</td>\n",
       "      <td>Rambutan</td>\n",
       "      <td>[14.952773377616763, -1.441300754340963, -9.76...</td>\n",
       "    </tr>\n",
       "    <tr>\n",
       "      <th>1</th>\n",
       "      <td>file:/Users/oceaneyouyoutte/Desktop/Data Scien...</td>\n",
       "      <td>Watermelon</td>\n",
       "      <td>[7.142155343192459, -6.882551109760895, -6.660...</td>\n",
       "    </tr>\n",
       "    <tr>\n",
       "      <th>2</th>\n",
       "      <td>file:/Users/oceaneyouyoutte/Desktop/Data Scien...</td>\n",
       "      <td>Cantaloupe 1</td>\n",
       "      <td>[-5.22411076128093, -6.634907999167829, 1.5608...</td>\n",
       "    </tr>\n",
       "    <tr>\n",
       "      <th>3</th>\n",
       "      <td>file:/Users/oceaneyouyoutte/Desktop/Data Scien...</td>\n",
       "      <td>Pear Stone</td>\n",
       "      <td>[0.16507039093618242, -11.14088665720186, -6.1...</td>\n",
       "    </tr>\n",
       "    <tr>\n",
       "      <th>4</th>\n",
       "      <td>file:/Users/oceaneyouyoutte/Desktop/Data Scien...</td>\n",
       "      <td>Onion Red Peeled</td>\n",
       "      <td>[-1.2736609812019115, 0.9276298806338973, -2.8...</td>\n",
       "    </tr>\n",
       "  </tbody>\n",
       "</table>\n",
       "</div>"
      ],
      "text/plain": [
       "                                                path             label  \\\n",
       "0  file:/Users/oceaneyouyoutte/Desktop/Data Scien...          Rambutan   \n",
       "1  file:/Users/oceaneyouyoutte/Desktop/Data Scien...        Watermelon   \n",
       "2  file:/Users/oceaneyouyoutte/Desktop/Data Scien...      Cantaloupe 1   \n",
       "3  file:/Users/oceaneyouyoutte/Desktop/Data Scien...        Pear Stone   \n",
       "4  file:/Users/oceaneyouyoutte/Desktop/Data Scien...  Onion Red Peeled   \n",
       "\n",
       "                                            pca_feat  \n",
       "0  [14.952773377616763, -1.441300754340963, -9.76...  \n",
       "1  [7.142155343192459, -6.882551109760895, -6.660...  \n",
       "2  [-5.22411076128093, -6.634907999167829, 1.5608...  \n",
       "3  [0.16507039093618242, -11.14088665720186, -6.1...  \n",
       "4  [-1.2736609812019115, 0.9276298806338973, -2.8...  "
      ]
     },
     "execution_count": 46,
     "metadata": {},
     "output_type": "execute_result"
    }
   ],
   "source": [
    "df_pca = spark.read.parquet(PATH_Result)\n",
    "df_pca = df_pca.toPandas()\n",
    "df_pca.head(5)"
   ]
  },
  {
   "cell_type": "raw",
   "id": "c7bb892b",
   "metadata": {},
   "source": [
    "# Closing the sparkSession\n",
    "spark.stop()"
   ]
  }
 ],
 "metadata": {
  "kernelspec": {
   "display_name": "Python 3 (ipykernel)",
   "language": "python",
   "name": "python3"
  },
  "language_info": {
   "codemirror_mode": {
    "name": "ipython",
    "version": 3
   },
   "file_extension": ".py",
   "mimetype": "text/x-python",
   "name": "python",
   "nbconvert_exporter": "python",
   "pygments_lexer": "ipython3",
   "version": "3.10.10"
  },
  "toc": {
   "base_numbering": 1,
   "nav_menu": {},
   "number_sections": true,
   "sideBar": true,
   "skip_h1_title": false,
   "title_cell": "Table of Contents",
   "title_sidebar": "Contents",
   "toc_cell": false,
   "toc_position": {
    "height": "calc(100% - 180px)",
    "left": "10px",
    "top": "150px",
    "width": "432.4px"
   },
   "toc_section_display": true,
   "toc_window_display": true
  }
 },
 "nbformat": 4,
 "nbformat_minor": 5
}
